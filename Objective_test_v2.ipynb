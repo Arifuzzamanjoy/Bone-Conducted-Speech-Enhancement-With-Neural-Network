{
  "cells": [
    {
      "cell_type": "markdown",
      "metadata": {
        "id": "view-in-github",
        "colab_type": "text"
      },
      "source": [
        "<a href=\"https://colab.research.google.com/github/Arifuzzamanjoy/Bone-Conducted-Speech-Enhancement-With-Neural-Network/blob/main/Objective_test_v2.ipynb\" target=\"_parent\"><img src=\"https://colab.research.google.com/assets/colab-badge.svg\" alt=\"Open In Colab\"/></a>"
      ]
    },
    {
      "cell_type": "code",
      "metadata": {
        "source_hash": null,
        "execution_start": 1693846358949,
        "execution_millis": 56374,
        "deepnote_to_be_reexecuted": false,
        "cell_id": "cf3b6d3e294e483cbc9c58b7f692a992",
        "deepnote_cell_type": "code",
        "id": "2cYGFxtAnmsN",
        "outputId": "6d4695b9-7a2e-4ce9-e344-e98db516b03c"
      },
      "source": [
        "!pip install librosa\n",
        "!pip install pesq\n",
        "!pip install pystoi\n",
        "!pip install natsort\n",
        "import librosa\n",
        "import numpy as np\n",
        "from pystoi import stoi\n",
        "import numpy as np\n",
        "from scipy.signal import stft\n",
        "\n",
        "import os\n",
        "from natsort import natsorted\n",
        "from pesq import pesq"
      ],
      "execution_count": null,
      "outputs": [
        {
          "name": "stdout",
          "text": "Collecting librosa\n  Downloading librosa-0.10.1-py3-none-any.whl (253 kB)\n\u001b[2K     \u001b[90m━━━━━━━━━━━━━━━━━━━━━━━━━━━━━━━━━━━━━━━\u001b[0m \u001b[32m253.7/253.7 kB\u001b[0m \u001b[31m9.7 MB/s\u001b[0m eta \u001b[36m0:00:00\u001b[0m\n\u001b[?25hCollecting soxr>=0.3.2\n  Downloading soxr-0.3.6-cp310-cp310-manylinux_2_17_x86_64.manylinux2014_x86_64.whl (1.2 MB)\n\u001b[2K     \u001b[90m━━━━━━━━━━━━━━━━━━━━━━━━━━━━━━━━━━━━━━━━\u001b[0m \u001b[32m1.2/1.2 MB\u001b[0m \u001b[31m12.9 MB/s\u001b[0m eta \u001b[36m0:00:00\u001b[0m\n\u001b[?25hCollecting numba>=0.51.0\n  Downloading numba-0.57.1-cp310-cp310-manylinux2014_x86_64.manylinux_2_17_x86_64.whl (3.6 MB)\n\u001b[2K     \u001b[90m━━━━━━━━━━━━━━━━━━━━━━━━━━━━━━━━━━━━━━━━\u001b[0m \u001b[32m3.6/3.6 MB\u001b[0m \u001b[31m25.1 MB/s\u001b[0m eta \u001b[36m0:00:00\u001b[0m\n\u001b[?25hRequirement already satisfied: decorator>=4.3.0 in /shared-libs/python3.10/py-core/lib/python3.10/site-packages (from librosa) (5.1.1)\nCollecting lazy-loader>=0.1\n  Downloading lazy_loader-0.3-py3-none-any.whl (9.1 kB)\nRequirement already satisfied: scikit-learn>=0.20.0 in /shared-libs/python3.10/py/lib/python3.10/site-packages (from librosa) (1.1.2)\nCollecting msgpack>=1.0\n  Downloading msgpack-1.0.5-cp310-cp310-manylinux_2_17_x86_64.manylinux2014_x86_64.whl (316 kB)\n\u001b[2K     \u001b[90m━━━━━━━━━━━━━━━━━━━━━━━━━━━━━━━━━━━━━━\u001b[0m \u001b[32m316.8/316.8 kB\u001b[0m \u001b[31m21.5 MB/s\u001b[0m eta \u001b[36m0:00:00\u001b[0m\n\u001b[?25hCollecting audioread>=2.1.9\n  Downloading audioread-3.0.0.tar.gz (377 kB)\n\u001b[2K     \u001b[90m━━━━━━━━━━━━━━━━━━━━━━━━━━━━━━━━━━━━━━\u001b[0m \u001b[32m377.0/377.0 kB\u001b[0m \u001b[31m28.7 MB/s\u001b[0m eta \u001b[36m0:00:00\u001b[0m\n\u001b[?25h  Preparing metadata (setup.py) ... \u001b[?25ldone\n\u001b[?25hRequirement already satisfied: joblib>=0.14 in /shared-libs/python3.10/py/lib/python3.10/site-packages (from librosa) (1.2.0)\nCollecting pooch>=1.0\n  Downloading pooch-1.7.0-py3-none-any.whl (60 kB)\n\u001b[2K     \u001b[90m━━━━━━━━━━━━━━━━━━━━━━━━━━━━━━━━━━━━━━━━\u001b[0m \u001b[32m60.9/60.9 kB\u001b[0m \u001b[31m8.3 MB/s\u001b[0m eta \u001b[36m0:00:00\u001b[0m\n\u001b[?25hRequirement already satisfied: typing-extensions>=4.1.1 in /shared-libs/python3.10/py/lib/python3.10/site-packages (from librosa) (4.4.0)\nRequirement already satisfied: scipy>=1.2.0 in /shared-libs/python3.10/py/lib/python3.10/site-packages (from librosa) (1.9.3)\nCollecting soundfile>=0.12.1\n  Downloading soundfile-0.12.1-py2.py3-none-manylinux_2_17_x86_64.whl (1.3 MB)\n\u001b[2K     \u001b[90m━━━━━━━━━━━━━━━━━━━━━━━━━━━━━━━━━━━━━━━━\u001b[0m \u001b[32m1.3/1.3 MB\u001b[0m \u001b[31m43.6 MB/s\u001b[0m eta \u001b[36m0:00:00\u001b[0m\n\u001b[?25hRequirement already satisfied: numpy!=1.22.0,!=1.22.1,!=1.22.2,>=1.20.3 in /shared-libs/python3.10/py/lib/python3.10/site-packages (from librosa) (1.23.4)\nCollecting llvmlite<0.41,>=0.40.0dev0\n  Downloading llvmlite-0.40.1-cp310-cp310-manylinux_2_17_x86_64.manylinux2014_x86_64.whl (42.1 MB)\n\u001b[2K     \u001b[90m━━━━━━━━━━━━━━━━━━━━━━━━━━━━━━━━━━━━━━━━\u001b[0m \u001b[32m42.1/42.1 MB\u001b[0m \u001b[31m31.2 MB/s\u001b[0m eta \u001b[36m0:00:00\u001b[0m\n\u001b[?25hCollecting platformdirs>=2.5.0\n  Downloading platformdirs-3.10.0-py3-none-any.whl (17 kB)\nRequirement already satisfied: requests>=2.19.0 in /shared-libs/python3.10/py/lib/python3.10/site-packages (from pooch>=1.0->librosa) (2.28.1)\nRequirement already satisfied: packaging>=20.0 in /shared-libs/python3.10/py-core/lib/python3.10/site-packages (from pooch>=1.0->librosa) (21.3)\nRequirement already satisfied: threadpoolctl>=2.0.0 in /shared-libs/python3.10/py/lib/python3.10/site-packages (from scikit-learn>=0.20.0->librosa) (3.1.0)\nRequirement already satisfied: cffi>=1.0 in /shared-libs/python3.10/py-core/lib/python3.10/site-packages (from soundfile>=0.12.1->librosa) (1.15.1)\nRequirement already satisfied: pycparser in /shared-libs/python3.10/py-core/lib/python3.10/site-packages (from cffi>=1.0->soundfile>=0.12.1->librosa) (2.21)\nRequirement already satisfied: pyparsing!=3.0.5,>=2.0.2 in /shared-libs/python3.10/py-core/lib/python3.10/site-packages (from packaging>=20.0->pooch>=1.0->librosa) (3.0.9)\nRequirement already satisfied: urllib3<1.27,>=1.21.1 in /shared-libs/python3.10/py/lib/python3.10/site-packages (from requests>=2.19.0->pooch>=1.0->librosa) (1.26.12)\nRequirement already satisfied: charset-normalizer<3,>=2 in /shared-libs/python3.10/py-core/lib/python3.10/site-packages (from requests>=2.19.0->pooch>=1.0->librosa) (2.1.1)\nRequirement already satisfied: idna<4,>=2.5 in /shared-libs/python3.10/py-core/lib/python3.10/site-packages (from requests>=2.19.0->pooch>=1.0->librosa) (3.4)\nRequirement already satisfied: certifi>=2017.4.17 in /shared-libs/python3.10/py/lib/python3.10/site-packages (from requests>=2.19.0->pooch>=1.0->librosa) (2022.9.24)\nBuilding wheels for collected packages: audioread\n  Building wheel for audioread (setup.py) ... \u001b[?25ldone\n\u001b[?25h  Created wheel for audioread: filename=audioread-3.0.0-py3-none-any.whl size=23706 sha256=b99270531f824a78fd459f1bddd80861f3cde3a0ec61d52d26b96b0298fe63ec\n  Stored in directory: /root/.cache/pip/wheels/da/4b/39/c5f6c4ee93b43281dda4dab5ac5f2bdf9d11074d427493cd55\nSuccessfully built audioread\nInstalling collected packages: msgpack, soxr, platformdirs, llvmlite, lazy-loader, audioread, soundfile, pooch, numba, librosa\nSuccessfully installed audioread-3.0.0 lazy-loader-0.3 librosa-0.10.1 llvmlite-0.40.1 msgpack-1.0.5 numba-0.57.1 platformdirs-3.10.0 pooch-1.7.0 soundfile-0.12.1 soxr-0.3.6\n\n\u001b[1m[\u001b[0m\u001b[34;49mnotice\u001b[0m\u001b[1;39;49m]\u001b[0m\u001b[39;49m A new release of pip is available: \u001b[0m\u001b[31;49m23.0.1\u001b[0m\u001b[39;49m -> \u001b[0m\u001b[32;49m23.2.1\u001b[0m\n\u001b[1m[\u001b[0m\u001b[34;49mnotice\u001b[0m\u001b[1;39;49m]\u001b[0m\u001b[39;49m To update, run: \u001b[0m\u001b[32;49mpip install --upgrade pip\u001b[0m\nCollecting pesq\n  Downloading pesq-0.0.4.tar.gz (38 kB)\n  Preparing metadata (setup.py) ... \u001b[?25ldone\n\u001b[?25hBuilding wheels for collected packages: pesq\n  Building wheel for pesq (setup.py) ... \u001b[?25ldone\n\u001b[?25h  Created wheel for pesq: filename=pesq-0.0.4-cp310-cp310-linux_x86_64.whl size=322041 sha256=79846f299d42df1d0464ddf8b3a1522328d0db745613235386a825fe8ec90787\n  Stored in directory: /root/.cache/pip/wheels/c5/4e/2c/251524370c0fdd659e99639a0fbd0ca5a782c3aafcd456b28d\nSuccessfully built pesq\nInstalling collected packages: pesq\nSuccessfully installed pesq-0.0.4\n\n\u001b[1m[\u001b[0m\u001b[34;49mnotice\u001b[0m\u001b[1;39;49m]\u001b[0m\u001b[39;49m A new release of pip is available: \u001b[0m\u001b[31;49m23.0.1\u001b[0m\u001b[39;49m -> \u001b[0m\u001b[32;49m23.2.1\u001b[0m\n\u001b[1m[\u001b[0m\u001b[34;49mnotice\u001b[0m\u001b[1;39;49m]\u001b[0m\u001b[39;49m To update, run: \u001b[0m\u001b[32;49mpip install --upgrade pip\u001b[0m\nCollecting pystoi\n  Downloading pystoi-0.3.3.tar.gz (7.0 kB)\n  Preparing metadata (setup.py) ... \u001b[?25ldone\n\u001b[?25hRequirement already satisfied: numpy in /shared-libs/python3.10/py/lib/python3.10/site-packages (from pystoi) (1.23.4)\nRequirement already satisfied: scipy in /shared-libs/python3.10/py/lib/python3.10/site-packages (from pystoi) (1.9.3)\nBuilding wheels for collected packages: pystoi\n  Building wheel for pystoi (setup.py) ... \u001b[?25ldone\n\u001b[?25h  Created wheel for pystoi: filename=pystoi-0.3.3-py2.py3-none-any.whl size=7779 sha256=dbf40b3d7d76cbf45229febf6923069c84ace7d419723dd08aeede037617e9e9\n  Stored in directory: /root/.cache/pip/wheels/3b/ca/9e/5b5d6e5e109322303b50d21918ad2bd7d50a2a0775c11e08e8\nSuccessfully built pystoi\nInstalling collected packages: pystoi\nSuccessfully installed pystoi-0.3.3\n\n\u001b[1m[\u001b[0m\u001b[34;49mnotice\u001b[0m\u001b[1;39;49m]\u001b[0m\u001b[39;49m A new release of pip is available: \u001b[0m\u001b[31;49m23.0.1\u001b[0m\u001b[39;49m -> \u001b[0m\u001b[32;49m23.2.1\u001b[0m\n\u001b[1m[\u001b[0m\u001b[34;49mnotice\u001b[0m\u001b[1;39;49m]\u001b[0m\u001b[39;49m To update, run: \u001b[0m\u001b[32;49mpip install --upgrade pip\u001b[0m\nCollecting natsort\n  Downloading natsort-8.4.0-py3-none-any.whl (38 kB)\nInstalling collected packages: natsort\nSuccessfully installed natsort-8.4.0\n\n\u001b[1m[\u001b[0m\u001b[34;49mnotice\u001b[0m\u001b[1;39;49m]\u001b[0m\u001b[39;49m A new release of pip is available: \u001b[0m\u001b[31;49m23.0.1\u001b[0m\u001b[39;49m -> \u001b[0m\u001b[32;49m23.2.1\u001b[0m\n\u001b[1m[\u001b[0m\u001b[34;49mnotice\u001b[0m\u001b[1;39;49m]\u001b[0m\u001b[39;49m To update, run: \u001b[0m\u001b[32;49mpip install --upgrade pip\u001b[0m\n",
          "output_type": "stream"
        }
      ]
    },
    {
      "cell_type": "markdown",
      "metadata": {
        "formattedRanges": [
          {
            "type": "marks",
            "marks": {
              "bold": true
            },
            "toCodePoint": 3,
            "fromCodePoint": 0
          }
        ],
        "cell_id": "8986dc6615dc475881a1511c816a2a70",
        "deepnote_cell_type": "text-cell-p",
        "id": "zi1Jm5uBnmsZ"
      },
      "source": [
        "LSD"
      ]
    },
    {
      "cell_type": "code",
      "metadata": {
        "source_hash": null,
        "execution_start": 1693846453294,
        "execution_millis": 29302,
        "deepnote_to_be_reexecuted": false,
        "cell_id": "1a80aafec87947d0a866031d5c5d2b2d",
        "deepnote_cell_type": "code",
        "id": "NW_JbUSGnmse"
      },
      "source": [
        "#####################NEW#######\n",
        "\n",
        "import librosa\n",
        "import numpy as np\n",
        "import os\n",
        "\n",
        "# Define the paths of the subfolders\n",
        "clean_folder = \"/work/DNN/clean\"\n",
        "noise_folder = \"/work/DNN/noisy\"\n",
        "enhance_folder = \"/work/DNN/enhance\"\n",
        "\n",
        "# Initialize an empty list\n",
        "# to store the LSD values\n",
        "lsd_c_n=np.array([])\n",
        "lsd_c_e=np.array([])\n",
        "stoi_c_e=np.array([])\n",
        "stoi_c_n=np.array([])\n",
        "pesq_c_n=np.array([])\n",
        "pesq_c_e=np.array([])\n",
        "\n",
        "\n",
        "# read all audio from clean_folder and noise_folder\n",
        "clean_files = os.listdir(clean_folder)\n",
        "noise_files = os.listdir(noise_folder)\n",
        "enhance_files=os.listdir(enhance_folder)\n",
        "\n",
        "# sort the file names using natural sorting\n",
        "clean_files = natsorted(clean_files)\n",
        "noise_files = natsorted(noise_files)\n",
        "sr=16000\n",
        "\n",
        "# Loop through two audio file in clean_files and noise_files those flow natural sorting as an windows\n",
        "#follow natural sorting while looping through the files in the folder\n",
        "for clean_file,noise_file,enhance_file in zip(natsorted(clean_files),natsorted(noise_files),natsorted(enhance_files)):\n",
        "    # Read the clean audio file\n",
        "    clean_audio,sr=librosa.load(os.path.join(clean_folder,clean_file),sr=sr)\n",
        "    # Read the noise audio file\n",
        "    noise_audio,sr=librosa.load(os.path.join(noise_folder,noise_file),sr=sr)\n",
        "    # Read the enhance audio file\n",
        "    enhance_audio,sr=librosa.load(os.path.join(enhance_folder,enhance_file),sr=sr)\n",
        "    # Calculate the LSD value\n",
        "    if len(clean_audio) > len(noise_audio):\n",
        "        clean_audio = clean_audio[:len(noise_audio)]\n",
        "    else:\n",
        "        noise_audio = noise_audio[:len(clean_audio)]\n",
        "\n",
        "\n",
        "    # Compute STFT of clean and noisy audio\n",
        "    f, t, Zxx_noisy = stft(noise_audio, sr)\n",
        "    f, t, Zxx_clean = stft(clean_audio, sr)\n",
        "    #take log of the magnitude of the STFT\n",
        "    log_Zxx_noisy = np.log(np.abs(Zxx_noisy))\n",
        "    log_Zxx_clean = np.log(np.abs(Zxx_clean))\n",
        "    # Compute mean squared error between log spectra\n",
        "    mse = np.mean((log_Zxx_noisy - log_Zxx_clean) ** 2)\n",
        "\n",
        "# Take square root to get LSD\n",
        "    lsd = np.sqrt(mse)\n",
        "    lsd_c_n = np.append(lsd_c_n, lsd)\n",
        "\n",
        "#PSEQ\n",
        "    # pesq between clean_audio,noise_audio\n",
        "    pesq_socre_yc_yn = pesq(sr,clean_audio,noise_audio,'nb')\n",
        "    pesq_c_n=np.append(pesq_c_n,pesq_socre_yc_yn)\n",
        "\n",
        "\n",
        "#STOI\n",
        "    stoi_value=stoi(clean_audio,noise_audio,sr,extended=False)\n",
        "    # Append the stoi_value to the list\n",
        "    stoi_c_n=np.append(stoi_c_n,stoi_value)\n",
        "\n",
        "\n",
        "\n",
        "\n",
        "# Stake LSD\n",
        "\n",
        "    if len(clean_audio) > len(enhance_audio):\n",
        "        clean_audio = clean_audio[:len(enhance_audio)]\n",
        "    else:\n",
        "        enhance_audio = enhance_audio[:len(clean_audio)]\n",
        "\n",
        "# Compute STFT of enhance and clean audio\n",
        "    f, t, Zxx_enhance = stft(enhance_audio, sr)\n",
        "    f, t, Zxx_clean = stft(clean_audio, sr)\n",
        "#take log of the magnitude of the STFT\n",
        "    log_Zxx_enhance = np.log(np.abs(Zxx_enhance))\n",
        "    log_Zxx_clean = np.log(np.abs(Zxx_clean))\n",
        "# Compute mean squared error between log spectra\n",
        "    mseenhance = np.mean((log_Zxx_enhance - log_Zxx_clean) ** 2)\n",
        "    lsdenhance = np.sqrt(mseenhance)\n",
        "    lsd_c_e = np.append(lsd_c_e, lsdenhance)\n",
        "\n",
        "\n",
        "\n",
        "#peseq\n",
        "\n",
        "    pesq_socre_yc_ye = pesq(sr,clean_audio,enhance_audio,'nb')\n",
        "    # pesq between clean_audio,enhance_audio\n",
        "    pesq_c_e=np.append(pesq_c_e,pesq_socre_yc_ye)\n",
        "\n",
        "#STOI\n",
        "    stoi_value1=stoi(clean_audio,enhance_audio,sr,extended=False)\n",
        "    # Append the stoi_value to the list\n",
        "    stoi_c_e=np.append(stoi_c_e,stoi_value1)\n",
        "\n"
      ],
      "execution_count": null,
      "outputs": []
    },
    {
      "cell_type": "code",
      "metadata": {
        "cell_id": "c0b15911b4ac486c8424ee1ee003e8a7",
        "deepnote_cell_type": "code",
        "id": "6-rrOYLtnmsi"
      },
      "source": [],
      "execution_count": null,
      "outputs": []
    },
    {
      "cell_type": "code",
      "metadata": {
        "source_hash": null,
        "execution_start": 1693846498548,
        "execution_millis": 17,
        "deepnote_to_be_reexecuted": false,
        "cell_id": "20b9c3ccd67e4d39868c1ae1e17f2cf0",
        "deepnote_cell_type": "code",
        "id": "ZgDkq9YRnmsk"
      },
      "source": [
        "import pandas as pd\n",
        "df = pd.DataFrame(clean_files, columns = ['File name']) #stoi_Noise_values   stoi_values\n",
        "df['LSD C-N'] = lsd_c_n\n",
        "df['LSD C-E']=lsd_c_e\n",
        "df['LSD Distance Improvement']=df['LSD C-N']-df['LSD C-E']\n",
        "\n",
        "\n",
        "df[\"stoi-c-e\"]=stoi_c_e\n",
        "df[\"stoi-c-n\"]=stoi_c_n\n",
        "df[\"stoi improvement\"]=stoi_c_e-stoi_c_n\n",
        "\n",
        "df[\"pesq-c-n\"]=pesq_c_n\n",
        "df[\"pesq-c-e\"]=pesq_c_e\n",
        "df[\"pesq_improvement\"]=pesq_c_n-pesq_c_e"
      ],
      "execution_count": null,
      "outputs": []
    },
    {
      "cell_type": "code",
      "metadata": {
        "source_hash": null,
        "execution_start": 1693846501394,
        "execution_millis": 508,
        "deepnote_table_state": {
          "sortBy": [],
          "filters": [],
          "pageSize": 10,
          "pageIndex": 0
        },
        "deepnote_table_loading": false,
        "deepnote_to_be_reexecuted": false,
        "cell_id": "34724c08ca4140b5b15b18eb08c80f42",
        "deepnote_cell_type": "code",
        "id": "eSIiNGX7nmsm",
        "outputId": "3699686d-682b-4de0-de9a-37086d3e1933"
      },
      "source": [
        "\n",
        "female_mask = df['File name'].str.startswith('F') # True if file name starts with F\n",
        "male_mask = df['File name'].str.startswith('M') # True if file name starts with M\n",
        "df['gender'] = np.where(female_mask, 'Female', np.where(male_mask, 'Male', 'unknown')) # Assign values based on masks\n",
        "df.head(10) # Show the first 5 rows of the DataFrame\n"
      ],
      "execution_count": null,
      "outputs": [
        {
          "output_type": "execute_result",
          "execution_count": 4,
          "data": {
            "application/vnd.deepnote.dataframe.v3+json": {
              "column_count": 11,
              "row_count": 10,
              "columns": [
                {
                  "name": "File name",
                  "dtype": "object",
                  "stats": {
                    "unique_count": 10,
                    "nan_count": 0,
                    "categories": [
                      {
                        "name": "F001_A16_ch1_1_1.wav",
                        "count": 1
                      },
                      {
                        "name": "F001_A17_ch1_1_1.wav",
                        "count": 1
                      },
                      {
                        "name": "8 others",
                        "count": 8
                      }
                    ]
                  }
                },
                {
                  "name": "LSD C-N",
                  "dtype": "float64",
                  "stats": {
                    "unique_count": 10,
                    "nan_count": 0,
                    "min": "1.6925033330917358",
                    "max": "1.8690779209136963",
                    "histogram": [
                      {
                        "bin_start": 1.6925033330917358,
                        "bin_end": 1.7101607918739319,
                        "count": 1
                      },
                      {
                        "bin_start": 1.7101607918739319,
                        "bin_end": 1.727818250656128,
                        "count": 0
                      },
                      {
                        "bin_start": 1.727818250656128,
                        "bin_end": 1.745475709438324,
                        "count": 1
                      },
                      {
                        "bin_start": 1.745475709438324,
                        "bin_end": 1.76313316822052,
                        "count": 1
                      },
                      {
                        "bin_start": 1.76313316822052,
                        "bin_end": 1.780790627002716,
                        "count": 1
                      },
                      {
                        "bin_start": 1.780790627002716,
                        "bin_end": 1.798448085784912,
                        "count": 0
                      },
                      {
                        "bin_start": 1.798448085784912,
                        "bin_end": 1.8161055445671082,
                        "count": 2
                      },
                      {
                        "bin_start": 1.8161055445671082,
                        "bin_end": 1.8337630033493042,
                        "count": 0
                      },
                      {
                        "bin_start": 1.8337630033493042,
                        "bin_end": 1.8514204621315002,
                        "count": 2
                      },
                      {
                        "bin_start": 1.8514204621315002,
                        "bin_end": 1.8690779209136963,
                        "count": 2
                      }
                    ]
                  }
                },
                {
                  "name": "LSD C-E",
                  "dtype": "float64",
                  "stats": {
                    "unique_count": 10,
                    "nan_count": 0,
                    "min": "1.2847554683685303",
                    "max": "1.6523869037628174",
                    "histogram": [
                      {
                        "bin_start": 1.2847554683685303,
                        "bin_end": 1.321518611907959,
                        "count": 2
                      },
                      {
                        "bin_start": 1.321518611907959,
                        "bin_end": 1.3582817554473876,
                        "count": 2
                      },
                      {
                        "bin_start": 1.3582817554473876,
                        "bin_end": 1.3950448989868165,
                        "count": 3
                      },
                      {
                        "bin_start": 1.3950448989868165,
                        "bin_end": 1.4318080425262452,
                        "count": 0
                      },
                      {
                        "bin_start": 1.4318080425262452,
                        "bin_end": 1.4685711860656738,
                        "count": 1
                      },
                      {
                        "bin_start": 1.4685711860656738,
                        "bin_end": 1.5053343296051025,
                        "count": 0
                      },
                      {
                        "bin_start": 1.5053343296051025,
                        "bin_end": 1.5420974731445312,
                        "count": 0
                      },
                      {
                        "bin_start": 1.5420974731445312,
                        "bin_end": 1.57886061668396,
                        "count": 0
                      },
                      {
                        "bin_start": 1.57886061668396,
                        "bin_end": 1.6156237602233887,
                        "count": 0
                      },
                      {
                        "bin_start": 1.6156237602233887,
                        "bin_end": 1.6523869037628174,
                        "count": 2
                      }
                    ]
                  }
                },
                {
                  "name": "LSD Distance Improvement",
                  "dtype": "float64",
                  "stats": {
                    "unique_count": 10,
                    "nan_count": 0,
                    "min": "0.09665608406066895",
                    "max": "0.5688923597335815",
                    "histogram": [
                      {
                        "bin_start": 0.09665608406066895,
                        "bin_end": 0.1438797116279602,
                        "count": 2
                      },
                      {
                        "bin_start": 0.1438797116279602,
                        "bin_end": 0.19110333919525146,
                        "count": 0
                      },
                      {
                        "bin_start": 0.19110333919525146,
                        "bin_end": 0.23832696676254272,
                        "count": 0
                      },
                      {
                        "bin_start": 0.23832696676254272,
                        "bin_end": 0.285550594329834,
                        "count": 0
                      },
                      {
                        "bin_start": 0.285550594329834,
                        "bin_end": 0.33277422189712524,
                        "count": 0
                      },
                      {
                        "bin_start": 0.33277422189712524,
                        "bin_end": 0.3799978494644165,
                        "count": 2
                      },
                      {
                        "bin_start": 0.3799978494644165,
                        "bin_end": 0.42722147703170776,
                        "count": 1
                      },
                      {
                        "bin_start": 0.42722147703170776,
                        "bin_end": 0.474445104598999,
                        "count": 1
                      },
                      {
                        "bin_start": 0.474445104598999,
                        "bin_end": 0.5216687321662903,
                        "count": 2
                      },
                      {
                        "bin_start": 0.5216687321662903,
                        "bin_end": 0.5688923597335815,
                        "count": 2
                      }
                    ]
                  }
                },
                {
                  "name": "stoi-c-e",
                  "dtype": "float64",
                  "stats": {
                    "unique_count": 10,
                    "nan_count": 0,
                    "min": "0.7959367750984214",
                    "max": "0.9051968904797404",
                    "histogram": [
                      {
                        "bin_start": 0.7959367750984214,
                        "bin_end": 0.8068627866365533,
                        "count": 2
                      },
                      {
                        "bin_start": 0.8068627866365533,
                        "bin_end": 0.8177887981746852,
                        "count": 1
                      },
                      {
                        "bin_start": 0.8177887981746852,
                        "bin_end": 0.8287148097128171,
                        "count": 1
                      },
                      {
                        "bin_start": 0.8287148097128171,
                        "bin_end": 0.839640821250949,
                        "count": 0
                      },
                      {
                        "bin_start": 0.839640821250949,
                        "bin_end": 0.850566832789081,
                        "count": 1
                      },
                      {
                        "bin_start": 0.850566832789081,
                        "bin_end": 0.8614928443272127,
                        "count": 0
                      },
                      {
                        "bin_start": 0.8614928443272127,
                        "bin_end": 0.8724188558653447,
                        "count": 0
                      },
                      {
                        "bin_start": 0.8724188558653447,
                        "bin_end": 0.8833448674034766,
                        "count": 0
                      },
                      {
                        "bin_start": 0.8833448674034766,
                        "bin_end": 0.8942708789416085,
                        "count": 1
                      },
                      {
                        "bin_start": 0.8942708789416085,
                        "bin_end": 0.9051968904797404,
                        "count": 4
                      }
                    ]
                  }
                },
                {
                  "name": "stoi-c-n",
                  "dtype": "float64",
                  "stats": {
                    "unique_count": 10,
                    "nan_count": 0,
                    "min": "0.6459996781082671",
                    "max": "0.7300584117790139",
                    "histogram": [
                      {
                        "bin_start": 0.6459996781082671,
                        "bin_end": 0.6544055514753417,
                        "count": 1
                      },
                      {
                        "bin_start": 0.6544055514753417,
                        "bin_end": 0.6628114248424164,
                        "count": 2
                      },
                      {
                        "bin_start": 0.6628114248424164,
                        "bin_end": 0.6712172982094912,
                        "count": 2
                      },
                      {
                        "bin_start": 0.6712172982094912,
                        "bin_end": 0.6796231715765658,
                        "count": 1
                      },
                      {
                        "bin_start": 0.6796231715765658,
                        "bin_end": 0.6880290449436405,
                        "count": 0
                      },
                      {
                        "bin_start": 0.6880290449436405,
                        "bin_end": 0.6964349183107151,
                        "count": 1
                      },
                      {
                        "bin_start": 0.6964349183107151,
                        "bin_end": 0.7048407916777898,
                        "count": 0
                      },
                      {
                        "bin_start": 0.7048407916777898,
                        "bin_end": 0.7132466650448646,
                        "count": 1
                      },
                      {
                        "bin_start": 0.7132466650448646,
                        "bin_end": 0.7216525384119392,
                        "count": 0
                      },
                      {
                        "bin_start": 0.7216525384119392,
                        "bin_end": 0.7300584117790139,
                        "count": 2
                      }
                    ]
                  }
                },
                {
                  "name": "stoi improvement",
                  "dtype": "float64",
                  "stats": {
                    "unique_count": 10,
                    "nan_count": 0,
                    "min": "0.13176642874376787",
                    "max": "0.23612952366941398",
                    "histogram": [
                      {
                        "bin_start": 0.13176642874376787,
                        "bin_end": 0.14220273823633248,
                        "count": 1
                      },
                      {
                        "bin_start": 0.14220273823633248,
                        "bin_end": 0.15263904772889708,
                        "count": 2
                      },
                      {
                        "bin_start": 0.15263904772889708,
                        "bin_end": 0.16307535722146171,
                        "count": 1
                      },
                      {
                        "bin_start": 0.16307535722146171,
                        "bin_end": 0.17351166671402632,
                        "count": 1
                      },
                      {
                        "bin_start": 0.17351166671402632,
                        "bin_end": 0.18394797620659092,
                        "count": 3
                      },
                      {
                        "bin_start": 0.18394797620659092,
                        "bin_end": 0.19438428569915553,
                        "count": 0
                      },
                      {
                        "bin_start": 0.19438428569915553,
                        "bin_end": 0.20482059519172013,
                        "count": 0
                      },
                      {
                        "bin_start": 0.20482059519172013,
                        "bin_end": 0.21525690468428477,
                        "count": 1
                      },
                      {
                        "bin_start": 0.21525690468428477,
                        "bin_end": 0.22569321417684934,
                        "count": 0
                      },
                      {
                        "bin_start": 0.22569321417684934,
                        "bin_end": 0.23612952366941398,
                        "count": 1
                      }
                    ]
                  }
                },
                {
                  "name": "pesq-c-n",
                  "dtype": "float64",
                  "stats": {
                    "unique_count": 10,
                    "nan_count": 0,
                    "min": "1.4276201725006104",
                    "max": "1.831002116203308",
                    "histogram": [
                      {
                        "bin_start": 1.4276201725006104,
                        "bin_end": 1.4679583668708802,
                        "count": 2
                      },
                      {
                        "bin_start": 1.4679583668708802,
                        "bin_end": 1.5082965612411499,
                        "count": 0
                      },
                      {
                        "bin_start": 1.5082965612411499,
                        "bin_end": 1.5486347556114197,
                        "count": 0
                      },
                      {
                        "bin_start": 1.5486347556114197,
                        "bin_end": 1.5889729499816894,
                        "count": 2
                      },
                      {
                        "bin_start": 1.5889729499816894,
                        "bin_end": 1.6293111443519592,
                        "count": 1
                      },
                      {
                        "bin_start": 1.6293111443519592,
                        "bin_end": 1.669649338722229,
                        "count": 1
                      },
                      {
                        "bin_start": 1.669649338722229,
                        "bin_end": 1.7099875330924987,
                        "count": 0
                      },
                      {
                        "bin_start": 1.7099875330924987,
                        "bin_end": 1.7503257274627686,
                        "count": 0
                      },
                      {
                        "bin_start": 1.7503257274627686,
                        "bin_end": 1.7906639218330382,
                        "count": 3
                      },
                      {
                        "bin_start": 1.7906639218330382,
                        "bin_end": 1.831002116203308,
                        "count": 1
                      }
                    ]
                  }
                },
                {
                  "name": "pesq-c-e",
                  "dtype": "float64",
                  "stats": {
                    "unique_count": 10,
                    "nan_count": 0,
                    "min": "1.8063969612121582",
                    "max": "2.4488937854766846",
                    "histogram": [
                      {
                        "bin_start": 1.8063969612121582,
                        "bin_end": 1.8706466436386109,
                        "count": 1
                      },
                      {
                        "bin_start": 1.8706466436386109,
                        "bin_end": 1.9348963260650636,
                        "count": 1
                      },
                      {
                        "bin_start": 1.9348963260650636,
                        "bin_end": 1.999146008491516,
                        "count": 0
                      },
                      {
                        "bin_start": 1.999146008491516,
                        "bin_end": 2.063395690917969,
                        "count": 0
                      },
                      {
                        "bin_start": 2.063395690917969,
                        "bin_end": 2.1276453733444214,
                        "count": 1
                      },
                      {
                        "bin_start": 2.1276453733444214,
                        "bin_end": 2.191895055770874,
                        "count": 2
                      },
                      {
                        "bin_start": 2.191895055770874,
                        "bin_end": 2.2561447381973267,
                        "count": 0
                      },
                      {
                        "bin_start": 2.2561447381973267,
                        "bin_end": 2.320394420623779,
                        "count": 3
                      },
                      {
                        "bin_start": 2.320394420623779,
                        "bin_end": 2.384644103050232,
                        "count": 0
                      },
                      {
                        "bin_start": 2.384644103050232,
                        "bin_end": 2.4488937854766846,
                        "count": 2
                      }
                    ]
                  }
                },
                {
                  "name": "pesq_improvement",
                  "dtype": "float64",
                  "stats": {
                    "unique_count": 10,
                    "nan_count": 0,
                    "min": "-0.8859806060791016",
                    "max": "0.024605154991149902",
                    "histogram": [
                      {
                        "bin_start": -0.8859806060791016,
                        "bin_end": -0.7949220299720764,
                        "count": 1
                      },
                      {
                        "bin_start": -0.7949220299720764,
                        "bin_end": -0.7038634538650512,
                        "count": 1
                      },
                      {
                        "bin_start": -0.7038634538650512,
                        "bin_end": -0.6128048777580262,
                        "count": 3
                      },
                      {
                        "bin_start": -0.6128048777580262,
                        "bin_end": -0.521746301651001,
                        "count": 3
                      },
                      {
                        "bin_start": -0.521746301651001,
                        "bin_end": -0.43068772554397583,
                        "count": 0
                      },
                      {
                        "bin_start": -0.43068772554397583,
                        "bin_end": -0.3396291494369508,
                        "count": 0
                      },
                      {
                        "bin_start": -0.3396291494369508,
                        "bin_end": -0.2485705733299256,
                        "count": 1
                      },
                      {
                        "bin_start": -0.2485705733299256,
                        "bin_end": -0.15751199722290044,
                        "count": 0
                      },
                      {
                        "bin_start": -0.15751199722290044,
                        "bin_end": -0.06645342111587527,
                        "count": 0
                      },
                      {
                        "bin_start": -0.06645342111587527,
                        "bin_end": 0.024605154991149902,
                        "count": 1
                      }
                    ]
                  }
                },
                {
                  "name": "gender",
                  "dtype": "object",
                  "stats": {
                    "unique_count": 2,
                    "nan_count": 0,
                    "categories": [
                      {
                        "name": "Female",
                        "count": 9
                      },
                      {
                        "name": "Male",
                        "count": 1
                      }
                    ]
                  }
                },
                {
                  "name": "_deepnote_index_column",
                  "dtype": "int64"
                }
              ],
              "rows": [
                {
                  "File name": "F001_A16_ch1_1_1.wav",
                  "LSD C-N": 1.7490429878234863,
                  "LSD C-E": 1.6523869037628174,
                  "LSD Distance Improvement": 0.09665608406066895,
                  "stoi-c-e": 0.8418221456278293,
                  "stoi-c-n": 0.6614939056467498,
                  "stoi improvement": 0.1803282399810795,
                  "pesq-c-n": 1.831002116203308,
                  "pesq-c-e": 1.8063969612121582,
                  "pesq_improvement": 0.024605154991149902,
                  "gender": "Female",
                  "_deepnote_index_column": 0
                },
                {
                  "File name": "F001_A17_ch1_1_1.wav",
                  "LSD C-N": 1.7417402267456055,
                  "LSD C-E": 1.6214969158172607,
                  "LSD Distance Improvement": 0.12024331092834473,
                  "stoi-c-e": 0.8188118910186142,
                  "stoi-c-n": 0.6731169693560405,
                  "stoi improvement": 0.1456949216625737,
                  "pesq-c-n": 1.637575626373291,
                  "pesq-c-e": 1.906025767326355,
                  "pesq_improvement": -0.26845014095306396,
                  "gender": "Female",
                  "_deepnote_index_column": 1
                },
                {
                  "File name": "F002_A01_ch1_1_1.wav",
                  "LSD C-N": 1.8114911317825317,
                  "LSD C-E": 1.3631086349487305,
                  "LSD Distance Improvement": 0.44838249683380127,
                  "stoi-c-e": 0.9051968904797404,
                  "stoi-c-n": 0.6945112349142367,
                  "stoi improvement": 0.21068565556550367,
                  "pesq-c-n": 1.4566030502319336,
                  "pesq-c-e": 2.1244940757751465,
                  "pesq_improvement": -0.6678910255432129,
                  "gender": "Female",
                  "_deepnote_index_column": 2
                },
                {
                  "File name": "F002_A07_ch1_1_1.wav",
                  "LSD C-N": 1.6925033330917358,
                  "LSD C-E": 1.3344289064407349,
                  "LSD Distance Improvement": 0.358074426651001,
                  "stoi-c-e": 0.8855097326348923,
                  "stoi-c-n": 0.7054016831773225,
                  "stoi improvement": 0.18010804945756975,
                  "pesq-c-n": 1.551466464996338,
                  "pesq-c-e": 2.1452949047088623,
                  "pesq_improvement": -0.5938284397125244,
                  "gender": "Female",
                  "_deepnote_index_column": 3
                },
                {
                  "File name": "F002_A10_ch1_1_1.wav",
                  "LSD C-N": 1.8690779209136963,
                  "LSD C-E": 1.3885672092437744,
                  "LSD Distance Improvement": 0.4805107116699219,
                  "stoi-c-e": 0.9024039399266559,
                  "stoi-c-n": 0.6662744162572419,
                  "stoi improvement": 0.23612952366941398,
                  "pesq-c-n": 1.4276201725006104,
                  "pesq-c-e": 2.313600778579712,
                  "pesq_improvement": -0.8859806060791016,
                  "gender": "Female",
                  "_deepnote_index_column": 4
                },
                {
                  "File name": "F002_A15_ch1_1_1.wav",
                  "LSD C-N": 1.7787911891937256,
                  "LSD C-E": 1.3852665424346924,
                  "LSD Distance Improvement": 0.3935246467590332,
                  "stoi-c-e": 0.8997141514159503,
                  "stoi-c-n": 0.7300584117790139,
                  "stoi improvement": 0.16965573963693648,
                  "pesq-c-n": 1.6051177978515625,
                  "pesq-c-e": 2.1884584426879883,
                  "pesq_improvement": -0.5833406448364258,
                  "gender": "Female",
                  "_deepnote_index_column": 5
                },
                {
                  "File name": "F003_A01_ch1_1_1.wav",
                  "LSD C-N": 1.8457491397857666,
                  "LSD C-E": 1.3123996257781982,
                  "LSD Distance Improvement": 0.5333495140075684,
                  "stoi-c-e": 0.7959367750984214,
                  "stoi-c-n": 0.6641703463546536,
                  "stoi improvement": 0.13176642874376787,
                  "pesq-c-n": 1.7620925903320312,
                  "pesq-c-e": 2.3189685344696045,
                  "pesq_improvement": -0.5568759441375732,
                  "gender": "Female",
                  "_deepnote_index_column": 6
                },
                {
                  "File name": "F003_A17_ch1_1_1.wav",
                  "LSD C-N": 1.8536478281021118,
                  "LSD C-E": 1.2847554683685303,
                  "LSD Distance Improvement": 0.5688923597335815,
                  "stoi-c-e": 0.8032764278263022,
                  "stoi-c-n": 0.6459996781082671,
                  "stoi improvement": 0.15727674971803507,
                  "pesq-c-n": 1.787513256072998,
                  "pesq-c-e": 2.4488937854766846,
                  "pesq_improvement": -0.6613805294036865,
                  "gender": "Female",
                  "_deepnote_index_column": 7
                },
                {
                  "File name": "F003_A19_ch1_1_1.wav",
                  "LSD C-N": 1.8355172872543335,
                  "LSD C-E": 1.350710391998291,
                  "LSD Distance Improvement": 0.4848068952560425,
                  "stoi-c-e": 0.8100254317697785,
                  "stoi-c-n": 0.6575346657579543,
                  "stoi improvement": 0.1524907660118242,
                  "pesq-c-n": 1.7715973854064941,
                  "pesq-c-e": 2.4159088134765625,
                  "pesq_improvement": -0.6443114280700684,
                  "gender": "Female",
                  "_deepnote_index_column": 8
                },
                {
                  "File name": "M001_A05_ch1_1_1.wav",
                  "LSD C-N": 1.8012536764144897,
                  "LSD C-E": 1.446115255355835,
                  "LSD Distance Improvement": 0.3551384210586548,
                  "stoi-c-e": 0.8990587292607563,
                  "stoi-c-n": 0.7222448802858041,
                  "stoi improvement": 0.17681384897495211,
                  "pesq-c-n": 1.5617759227752686,
                  "pesq-c-e": 2.317502021789551,
                  "pesq_improvement": -0.7557260990142822,
                  "gender": "Male",
                  "_deepnote_index_column": 9
                }
              ]
            },
            "text/plain": "              File name   LSD C-N   LSD C-E  LSD Distance Improvement  \\\n0  F001_A16_ch1_1_1.wav  1.749043  1.652387                  0.096656   \n1  F001_A17_ch1_1_1.wav  1.741740  1.621497                  0.120243   \n2  F002_A01_ch1_1_1.wav  1.811491  1.363109                  0.448382   \n3  F002_A07_ch1_1_1.wav  1.692503  1.334429                  0.358074   \n4  F002_A10_ch1_1_1.wav  1.869078  1.388567                  0.480511   \n5  F002_A15_ch1_1_1.wav  1.778791  1.385267                  0.393525   \n6  F003_A01_ch1_1_1.wav  1.845749  1.312400                  0.533350   \n7  F003_A17_ch1_1_1.wav  1.853648  1.284755                  0.568892   \n8  F003_A19_ch1_1_1.wav  1.835517  1.350710                  0.484807   \n9  M001_A05_ch1_1_1.wav  1.801254  1.446115                  0.355138   \n\n   stoi-c-e  stoi-c-n  stoi improvement  pesq-c-n  pesq-c-e  pesq_improvement  \\\n0  0.841822  0.661494          0.180328  1.831002  1.806397          0.024605   \n1  0.818812  0.673117          0.145695  1.637576  1.906026         -0.268450   \n2  0.905197  0.694511          0.210686  1.456603  2.124494         -0.667891   \n3  0.885510  0.705402          0.180108  1.551466  2.145295         -0.593828   \n4  0.902404  0.666274          0.236130  1.427620  2.313601         -0.885981   \n5  0.899714  0.730058          0.169656  1.605118  2.188458         -0.583341   \n6  0.795937  0.664170          0.131766  1.762093  2.318969         -0.556876   \n7  0.803276  0.646000          0.157277  1.787513  2.448894         -0.661381   \n8  0.810025  0.657535          0.152491  1.771597  2.415909         -0.644311   \n9  0.899059  0.722245          0.176814  1.561776  2.317502         -0.755726   \n\n   gender  \n0  Female  \n1  Female  \n2  Female  \n3  Female  \n4  Female  \n5  Female  \n6  Female  \n7  Female  \n8  Female  \n9    Male  ",
            "text/html": "<div>\n<style scoped>\n    .dataframe tbody tr th:only-of-type {\n        vertical-align: middle;\n    }\n\n    .dataframe tbody tr th {\n        vertical-align: top;\n    }\n\n    .dataframe thead th {\n        text-align: right;\n    }\n</style>\n<table border=\"1\" class=\"dataframe\">\n  <thead>\n    <tr style=\"text-align: right;\">\n      <th></th>\n      <th>File name</th>\n      <th>LSD C-N</th>\n      <th>LSD C-E</th>\n      <th>LSD Distance Improvement</th>\n      <th>stoi-c-e</th>\n      <th>stoi-c-n</th>\n      <th>stoi improvement</th>\n      <th>pesq-c-n</th>\n      <th>pesq-c-e</th>\n      <th>pesq_improvement</th>\n      <th>gender</th>\n    </tr>\n  </thead>\n  <tbody>\n    <tr>\n      <th>0</th>\n      <td>F001_A16_ch1_1_1.wav</td>\n      <td>1.749043</td>\n      <td>1.652387</td>\n      <td>0.096656</td>\n      <td>0.841822</td>\n      <td>0.661494</td>\n      <td>0.180328</td>\n      <td>1.831002</td>\n      <td>1.806397</td>\n      <td>0.024605</td>\n      <td>Female</td>\n    </tr>\n    <tr>\n      <th>1</th>\n      <td>F001_A17_ch1_1_1.wav</td>\n      <td>1.741740</td>\n      <td>1.621497</td>\n      <td>0.120243</td>\n      <td>0.818812</td>\n      <td>0.673117</td>\n      <td>0.145695</td>\n      <td>1.637576</td>\n      <td>1.906026</td>\n      <td>-0.268450</td>\n      <td>Female</td>\n    </tr>\n    <tr>\n      <th>2</th>\n      <td>F002_A01_ch1_1_1.wav</td>\n      <td>1.811491</td>\n      <td>1.363109</td>\n      <td>0.448382</td>\n      <td>0.905197</td>\n      <td>0.694511</td>\n      <td>0.210686</td>\n      <td>1.456603</td>\n      <td>2.124494</td>\n      <td>-0.667891</td>\n      <td>Female</td>\n    </tr>\n    <tr>\n      <th>3</th>\n      <td>F002_A07_ch1_1_1.wav</td>\n      <td>1.692503</td>\n      <td>1.334429</td>\n      <td>0.358074</td>\n      <td>0.885510</td>\n      <td>0.705402</td>\n      <td>0.180108</td>\n      <td>1.551466</td>\n      <td>2.145295</td>\n      <td>-0.593828</td>\n      <td>Female</td>\n    </tr>\n    <tr>\n      <th>4</th>\n      <td>F002_A10_ch1_1_1.wav</td>\n      <td>1.869078</td>\n      <td>1.388567</td>\n      <td>0.480511</td>\n      <td>0.902404</td>\n      <td>0.666274</td>\n      <td>0.236130</td>\n      <td>1.427620</td>\n      <td>2.313601</td>\n      <td>-0.885981</td>\n      <td>Female</td>\n    </tr>\n    <tr>\n      <th>5</th>\n      <td>F002_A15_ch1_1_1.wav</td>\n      <td>1.778791</td>\n      <td>1.385267</td>\n      <td>0.393525</td>\n      <td>0.899714</td>\n      <td>0.730058</td>\n      <td>0.169656</td>\n      <td>1.605118</td>\n      <td>2.188458</td>\n      <td>-0.583341</td>\n      <td>Female</td>\n    </tr>\n    <tr>\n      <th>6</th>\n      <td>F003_A01_ch1_1_1.wav</td>\n      <td>1.845749</td>\n      <td>1.312400</td>\n      <td>0.533350</td>\n      <td>0.795937</td>\n      <td>0.664170</td>\n      <td>0.131766</td>\n      <td>1.762093</td>\n      <td>2.318969</td>\n      <td>-0.556876</td>\n      <td>Female</td>\n    </tr>\n    <tr>\n      <th>7</th>\n      <td>F003_A17_ch1_1_1.wav</td>\n      <td>1.853648</td>\n      <td>1.284755</td>\n      <td>0.568892</td>\n      <td>0.803276</td>\n      <td>0.646000</td>\n      <td>0.157277</td>\n      <td>1.787513</td>\n      <td>2.448894</td>\n      <td>-0.661381</td>\n      <td>Female</td>\n    </tr>\n    <tr>\n      <th>8</th>\n      <td>F003_A19_ch1_1_1.wav</td>\n      <td>1.835517</td>\n      <td>1.350710</td>\n      <td>0.484807</td>\n      <td>0.810025</td>\n      <td>0.657535</td>\n      <td>0.152491</td>\n      <td>1.771597</td>\n      <td>2.415909</td>\n      <td>-0.644311</td>\n      <td>Female</td>\n    </tr>\n    <tr>\n      <th>9</th>\n      <td>M001_A05_ch1_1_1.wav</td>\n      <td>1.801254</td>\n      <td>1.446115</td>\n      <td>0.355138</td>\n      <td>0.899059</td>\n      <td>0.722245</td>\n      <td>0.176814</td>\n      <td>1.561776</td>\n      <td>2.317502</td>\n      <td>-0.755726</td>\n      <td>Male</td>\n    </tr>\n  </tbody>\n</table>\n</div>"
          },
          "metadata": {}
        }
      ]
    },
    {
      "cell_type": "code",
      "metadata": {
        "source_hash": null,
        "execution_start": 1693846531534,
        "execution_millis": 6,
        "deepnote_to_be_reexecuted": false,
        "cell_id": "f14be831adb14f8fa42b6c21cc96baf9",
        "deepnote_cell_type": "code",
        "id": "Y1KBJ6GWnmso"
      },
      "source": [
        "df.to_csv('data1.csv', index=False)"
      ],
      "execution_count": null,
      "outputs": []
    },
    {
      "cell_type": "code",
      "metadata": {
        "cell_id": "92863e25572e4d7588c69a4d221b0825",
        "deepnote_cell_type": "code",
        "id": "A--NRTXKnmsq"
      },
      "source": [],
      "execution_count": null,
      "outputs": []
    },
    {
      "cell_type": "code",
      "metadata": {
        "output_cleared": true,
        "deepnote_variable_name": "df",
        "deepnote_visualization_spec": {
          "mark": {
            "type": "bar",
            "tooltip": true
          },
          "width": "container",
          "config": {
            "customFormatTypes": true
          },
          "height": "container",
          "$schema": "https://vega.github.io/schema/vega-lite/v5.json",
          "encoding": {
            "x": {
              "sort": null,
              "type": "nominal",
              "field": "",
              "scale": {
                "type": "linear"
              },
              "format": {
                "type": "default",
                "decimals": null
              }
            },
            "y": {
              "sort": null,
              "type": "nominal",
              "field": "",
              "scale": {
                "type": "linear"
              },
              "format": {
                "type": "default",
                "decimals": null
              }
            },
            "color": {
              "sort": null,
              "type": "nominal",
              "field": "",
              "scale": {
                "type": "linear"
              },
              "format": {
                "type": "default",
                "decimals": null
              }
            }
          }
        },
        "cell_id": "4d79aca16c264613949d51fa26f3bc91",
        "deepnote_cell_type": "visualization",
        "id": "mZyjj5MInmsr"
      },
      "source": [
        "DeepnoteChart(df, \"\"\"{\"mark\":{\"type\":\"bar\",\"tooltip\":true},\"width\":\"container\",\"config\":{\"customFormatTypes\":true},\"height\":\"container\",\"$schema\":\"https://vega.github.io/schema/vega-lite/v5.json\",\"encoding\":{\"x\":{\"sort\":null,\"type\":\"nominal\",\"field\":\"\",\"scale\":{\"type\":\"linear\"},\"format\":{\"type\":\"default\",\"decimals\":null}},\"y\":{\"sort\":null,\"type\":\"nominal\",\"field\":\"\",\"scale\":{\"type\":\"linear\"},\"format\":{\"type\":\"default\",\"decimals\":null}},\"color\":{\"sort\":null,\"type\":\"nominal\",\"field\":\"\",\"scale\":{\"type\":\"linear\"},\"format\":{\"type\":\"default\",\"decimals\":null}}}}\"\"\")"
      ],
      "execution_count": null,
      "outputs": []
    },
    {
      "cell_type": "markdown",
      "metadata": {
        "formattedRanges": [],
        "cell_id": "54c5d32d860e470baf6669bcc43b5055",
        "deepnote_cell_type": "text-cell-p",
        "id": "AToGOpzunmss"
      },
      "source": []
    },
    {
      "cell_type": "markdown",
      "source": [
        "<a style='text-decoration:none;line-height:16px;display:flex;color:#5B5B62;padding:10px;justify-content:end;' href='https://deepnote.com?utm_source=created-in-deepnote-cell&projectId=8932d5f0-83a3-437e-bb6a-bbc3eadd6e87' target=\"_blank\">\n",
        "<img alt='Created in deepnote.com' style='display:inline;max-height:16px;margin:0px;margin-right:7.5px;' src='data:image/svg+xml;base64,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' > </img>\n",
        "Created in <span style='font-weight:600;margin-left:4px;'>Deepnote</span></a>"
      ],
      "metadata": {
        "created_in_deepnote_cell": true,
        "deepnote_cell_type": "markdown",
        "id": "X9MWhAJgnmss"
      }
    }
  ],
  "nbformat": 4,
  "nbformat_minor": 0,
  "metadata": {
    "deepnote": {},
    "orig_nbformat": 2,
    "deepnote_notebook_id": "e8a283df7f11474cae3c960a87c2b745",
    "deepnote_execution_queue": [],
    "deepnote_persisted_session": {
      "createdAt": "2023-09-04T17:16:39.657Z"
    },
    "colab": {
      "provenance": [],
      "include_colab_link": true
    }
  }
}